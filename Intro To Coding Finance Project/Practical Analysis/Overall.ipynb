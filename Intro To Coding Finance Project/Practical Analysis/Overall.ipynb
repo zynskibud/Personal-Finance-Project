{
 "cells": [
  {
   "cell_type": "code",
   "execution_count": 1,
   "metadata": {},
   "outputs": [],
   "source": [
    "import pandas as pd\n",
    "import numpy as np\n",
    "import yfinance as yf\n",
    "from IPython.display import display\n",
    "from pathlib import Path"
   ]
  },
  {
   "cell_type": "code",
   "execution_count": 2,
   "metadata": {},
   "outputs": [
    {
     "data": {
      "text/plain": [
       "dict_keys(['Stock- NVIDIA', 'Stock- Amazon', 'Stock- Apple', 'Stock- Microsoft', 'Stock- Tesla', 'Mutual Fund- FNF', 'Mutual Fund-FSTP', 'Bond- 13 Week TBill', 'Bond- 5YTBY', 'Bond- 10 YTBill Yield', 'Commodity- Copper', 'Commodity- Oil', 'Commodity- Gold', 'Commodity- Steel', 'Credit Data- SNP Futures', 'FX Pair- USD EUR', 'FX Pair- USD JPY', 'Index Fund- S&P'])"
      ]
     },
     "metadata": {},
     "output_type": "display_data"
    }
   ],
   "source": [
    "#Excel reading function\n",
    "df_dict = pd.read_excel(r\"C:\\Users\\mattp\\Finance Project\\Concatenate and Excel\\All Assets Final Before Analysis.xlsx\",  sheet_name = None)\n",
    "df_AllAssets = df_dict['All Assets']\n",
    "del df_dict['All Assets']\n",
    "display(df_dict.keys())\n",
    "df_AllAssets.columns = df_AllAssets.columns.to_series().replace('Unnamed:\\s\\d+',np.nan,regex=True).ffill().values"
   ]
  },
  {
   "cell_type": "code",
   "execution_count": 3,
   "metadata": {},
   "outputs": [],
   "source": [
    "def analysis(df_common):\n",
    "    starting_point = df_common[df_common.Open>0].iloc[0]\n",
    "    date_starting_point = starting_point[0]\n",
    "    df_common[\"Starting Point\"] = date_starting_point\n",
    "    \n",
    "    series_PCT_common = df_common[\"Day to Day\"]\n",
    "    series_PCT_SNP = df_SNP[\"Day to Day\"]\n",
    "\n",
    "    df_common['Date'] = pd.to_datetime(df_common['Date'], errors='coerce')\n",
    "    \n",
    "    df_common[\"Day to Day\"] = df_common[\"Close\"].pct_change()\n",
    "    df_common['Month to Month'] = df_common.groupby(df_common['Date'].dt.to_period('M'))['Day to Day'].transform('mean')\n",
    "    df_common['Year to Year'] = df_common.groupby(df_common['Date'].dt.to_period('Y'))['Day to Day'].transform('mean')\n",
    "\n",
    "    df_common_DTD = df_common[\"Day to Day\"].iloc[1:]\n",
    "    trading_days = 252\n",
    "    df_common[\"Volatility\"] = df_common_DTD.rolling(window = trading_days).std()*np.sqrt(trading_days)\n",
    "\n",
    "    df_common['Date'] = df_common['Date'].dt.strftime('%Y-%m-%d %H:%M:%S')\n",
    "\n",
    "    return df_common"
   ]
  },
  {
   "cell_type": "code",
   "execution_count": 4,
   "metadata": {},
   "outputs": [
    {
     "name": "stderr",
     "output_type": "stream",
     "text": [
      "C:\\Users\\mattp\\AppData\\Local\\Temp\\ipykernel_10784\\3571236038.py:9: UserWarning: Converting to PeriodArray/Index representation will drop timezone information.\n",
      "  df_common['Month to Month'] = df_common.groupby(df_common['Date'].dt.to_period('M'))['Day to Day'].transform('mean')\n",
      "C:\\Users\\mattp\\AppData\\Local\\Temp\\ipykernel_10784\\3571236038.py:10: UserWarning: Converting to PeriodArray/Index representation will drop timezone information.\n",
      "  df_common['Year to Year'] = df_common.groupby(df_common['Date'].dt.to_period('Y'))['Day to Day'].transform('mean')\n",
      "C:\\Users\\mattp\\AppData\\Local\\Temp\\ipykernel_10784\\3571236038.py:9: UserWarning: Converting to PeriodArray/Index representation will drop timezone information.\n",
      "  df_common['Month to Month'] = df_common.groupby(df_common['Date'].dt.to_period('M'))['Day to Day'].transform('mean')\n",
      "C:\\Users\\mattp\\AppData\\Local\\Temp\\ipykernel_10784\\3571236038.py:10: UserWarning: Converting to PeriodArray/Index representation will drop timezone information.\n",
      "  df_common['Year to Year'] = df_common.groupby(df_common['Date'].dt.to_period('Y'))['Day to Day'].transform('mean')\n",
      "C:\\Users\\mattp\\AppData\\Local\\Temp\\ipykernel_10784\\3571236038.py:9: UserWarning: Converting to PeriodArray/Index representation will drop timezone information.\n",
      "  df_common['Month to Month'] = df_common.groupby(df_common['Date'].dt.to_period('M'))['Day to Day'].transform('mean')\n",
      "C:\\Users\\mattp\\AppData\\Local\\Temp\\ipykernel_10784\\3571236038.py:10: UserWarning: Converting to PeriodArray/Index representation will drop timezone information.\n",
      "  df_common['Year to Year'] = df_common.groupby(df_common['Date'].dt.to_period('Y'))['Day to Day'].transform('mean')\n",
      "C:\\Users\\mattp\\AppData\\Local\\Temp\\ipykernel_10784\\3571236038.py:9: UserWarning: Converting to PeriodArray/Index representation will drop timezone information.\n",
      "  df_common['Month to Month'] = df_common.groupby(df_common['Date'].dt.to_period('M'))['Day to Day'].transform('mean')\n",
      "C:\\Users\\mattp\\AppData\\Local\\Temp\\ipykernel_10784\\3571236038.py:10: UserWarning: Converting to PeriodArray/Index representation will drop timezone information.\n",
      "  df_common['Year to Year'] = df_common.groupby(df_common['Date'].dt.to_period('Y'))['Day to Day'].transform('mean')\n",
      "C:\\Users\\mattp\\AppData\\Local\\Temp\\ipykernel_10784\\3571236038.py:9: UserWarning: Converting to PeriodArray/Index representation will drop timezone information.\n",
      "  df_common['Month to Month'] = df_common.groupby(df_common['Date'].dt.to_period('M'))['Day to Day'].transform('mean')\n",
      "C:\\Users\\mattp\\AppData\\Local\\Temp\\ipykernel_10784\\3571236038.py:10: UserWarning: Converting to PeriodArray/Index representation will drop timezone information.\n",
      "  df_common['Year to Year'] = df_common.groupby(df_common['Date'].dt.to_period('Y'))['Day to Day'].transform('mean')\n",
      "C:\\Users\\mattp\\AppData\\Local\\Temp\\ipykernel_10784\\3571236038.py:9: UserWarning: Converting to PeriodArray/Index representation will drop timezone information.\n",
      "  df_common['Month to Month'] = df_common.groupby(df_common['Date'].dt.to_period('M'))['Day to Day'].transform('mean')\n",
      "C:\\Users\\mattp\\AppData\\Local\\Temp\\ipykernel_10784\\3571236038.py:10: UserWarning: Converting to PeriodArray/Index representation will drop timezone information.\n",
      "  df_common['Year to Year'] = df_common.groupby(df_common['Date'].dt.to_period('Y'))['Day to Day'].transform('mean')\n",
      "C:\\Users\\mattp\\AppData\\Local\\Temp\\ipykernel_10784\\3571236038.py:9: UserWarning: Converting to PeriodArray/Index representation will drop timezone information.\n",
      "  df_common['Month to Month'] = df_common.groupby(df_common['Date'].dt.to_period('M'))['Day to Day'].transform('mean')\n",
      "C:\\Users\\mattp\\AppData\\Local\\Temp\\ipykernel_10784\\3571236038.py:10: UserWarning: Converting to PeriodArray/Index representation will drop timezone information.\n",
      "  df_common['Year to Year'] = df_common.groupby(df_common['Date'].dt.to_period('Y'))['Day to Day'].transform('mean')\n",
      "C:\\Users\\mattp\\AppData\\Local\\Temp\\ipykernel_10784\\3571236038.py:9: UserWarning: Converting to PeriodArray/Index representation will drop timezone information.\n",
      "  df_common['Month to Month'] = df_common.groupby(df_common['Date'].dt.to_period('M'))['Day to Day'].transform('mean')\n",
      "C:\\Users\\mattp\\AppData\\Local\\Temp\\ipykernel_10784\\3571236038.py:10: UserWarning: Converting to PeriodArray/Index representation will drop timezone information.\n",
      "  df_common['Year to Year'] = df_common.groupby(df_common['Date'].dt.to_period('Y'))['Day to Day'].transform('mean')\n",
      "C:\\Users\\mattp\\AppData\\Local\\Temp\\ipykernel_10784\\3571236038.py:9: UserWarning: Converting to PeriodArray/Index representation will drop timezone information.\n",
      "  df_common['Month to Month'] = df_common.groupby(df_common['Date'].dt.to_period('M'))['Day to Day'].transform('mean')\n",
      "C:\\Users\\mattp\\AppData\\Local\\Temp\\ipykernel_10784\\3571236038.py:10: UserWarning: Converting to PeriodArray/Index representation will drop timezone information.\n",
      "  df_common['Year to Year'] = df_common.groupby(df_common['Date'].dt.to_period('Y'))['Day to Day'].transform('mean')\n",
      "C:\\Users\\mattp\\AppData\\Local\\Temp\\ipykernel_10784\\3571236038.py:9: UserWarning: Converting to PeriodArray/Index representation will drop timezone information.\n",
      "  df_common['Month to Month'] = df_common.groupby(df_common['Date'].dt.to_period('M'))['Day to Day'].transform('mean')\n",
      "C:\\Users\\mattp\\AppData\\Local\\Temp\\ipykernel_10784\\3571236038.py:10: UserWarning: Converting to PeriodArray/Index representation will drop timezone information.\n",
      "  df_common['Year to Year'] = df_common.groupby(df_common['Date'].dt.to_period('Y'))['Day to Day'].transform('mean')\n",
      "C:\\Users\\mattp\\AppData\\Local\\Temp\\ipykernel_10784\\3571236038.py:9: UserWarning: Converting to PeriodArray/Index representation will drop timezone information.\n",
      "  df_common['Month to Month'] = df_common.groupby(df_common['Date'].dt.to_period('M'))['Day to Day'].transform('mean')\n",
      "C:\\Users\\mattp\\AppData\\Local\\Temp\\ipykernel_10784\\3571236038.py:10: UserWarning: Converting to PeriodArray/Index representation will drop timezone information.\n",
      "  df_common['Year to Year'] = df_common.groupby(df_common['Date'].dt.to_period('Y'))['Day to Day'].transform('mean')\n",
      "C:\\Users\\mattp\\AppData\\Local\\Temp\\ipykernel_10784\\3571236038.py:9: UserWarning: Converting to PeriodArray/Index representation will drop timezone information.\n",
      "  df_common['Month to Month'] = df_common.groupby(df_common['Date'].dt.to_period('M'))['Day to Day'].transform('mean')\n",
      "C:\\Users\\mattp\\AppData\\Local\\Temp\\ipykernel_10784\\3571236038.py:10: UserWarning: Converting to PeriodArray/Index representation will drop timezone information.\n",
      "  df_common['Year to Year'] = df_common.groupby(df_common['Date'].dt.to_period('Y'))['Day to Day'].transform('mean')\n",
      "C:\\Users\\mattp\\AppData\\Local\\Temp\\ipykernel_10784\\3571236038.py:9: UserWarning: Converting to PeriodArray/Index representation will drop timezone information.\n",
      "  df_common['Month to Month'] = df_common.groupby(df_common['Date'].dt.to_period('M'))['Day to Day'].transform('mean')\n",
      "C:\\Users\\mattp\\AppData\\Local\\Temp\\ipykernel_10784\\3571236038.py:10: UserWarning: Converting to PeriodArray/Index representation will drop timezone information.\n",
      "  df_common['Year to Year'] = df_common.groupby(df_common['Date'].dt.to_period('Y'))['Day to Day'].transform('mean')\n",
      "C:\\Users\\mattp\\AppData\\Local\\Temp\\ipykernel_10784\\3571236038.py:9: UserWarning: Converting to PeriodArray/Index representation will drop timezone information.\n",
      "  df_common['Month to Month'] = df_common.groupby(df_common['Date'].dt.to_period('M'))['Day to Day'].transform('mean')\n",
      "C:\\Users\\mattp\\AppData\\Local\\Temp\\ipykernel_10784\\3571236038.py:10: UserWarning: Converting to PeriodArray/Index representation will drop timezone information.\n",
      "  df_common['Year to Year'] = df_common.groupby(df_common['Date'].dt.to_period('Y'))['Day to Day'].transform('mean')\n",
      "C:\\Users\\mattp\\AppData\\Local\\Temp\\ipykernel_10784\\3571236038.py:9: UserWarning: Converting to PeriodArray/Index representation will drop timezone information.\n",
      "  df_common['Month to Month'] = df_common.groupby(df_common['Date'].dt.to_period('M'))['Day to Day'].transform('mean')\n",
      "C:\\Users\\mattp\\AppData\\Local\\Temp\\ipykernel_10784\\3571236038.py:10: UserWarning: Converting to PeriodArray/Index representation will drop timezone information.\n",
      "  df_common['Year to Year'] = df_common.groupby(df_common['Date'].dt.to_period('Y'))['Day to Day'].transform('mean')\n",
      "C:\\Users\\mattp\\AppData\\Local\\Temp\\ipykernel_10784\\3571236038.py:9: UserWarning: Converting to PeriodArray/Index representation will drop timezone information.\n",
      "  df_common['Month to Month'] = df_common.groupby(df_common['Date'].dt.to_period('M'))['Day to Day'].transform('mean')\n",
      "C:\\Users\\mattp\\AppData\\Local\\Temp\\ipykernel_10784\\3571236038.py:10: UserWarning: Converting to PeriodArray/Index representation will drop timezone information.\n",
      "  df_common['Year to Year'] = df_common.groupby(df_common['Date'].dt.to_period('Y'))['Day to Day'].transform('mean')\n",
      "C:\\Users\\mattp\\AppData\\Local\\Temp\\ipykernel_10784\\3571236038.py:9: UserWarning: Converting to PeriodArray/Index representation will drop timezone information.\n",
      "  df_common['Month to Month'] = df_common.groupby(df_common['Date'].dt.to_period('M'))['Day to Day'].transform('mean')\n",
      "C:\\Users\\mattp\\AppData\\Local\\Temp\\ipykernel_10784\\3571236038.py:10: UserWarning: Converting to PeriodArray/Index representation will drop timezone information.\n",
      "  df_common['Year to Year'] = df_common.groupby(df_common['Date'].dt.to_period('Y'))['Day to Day'].transform('mean')\n",
      "C:\\Users\\mattp\\AppData\\Local\\Temp\\ipykernel_10784\\3571236038.py:9: UserWarning: Converting to PeriodArray/Index representation will drop timezone information.\n",
      "  df_common['Month to Month'] = df_common.groupby(df_common['Date'].dt.to_period('M'))['Day to Day'].transform('mean')\n",
      "C:\\Users\\mattp\\AppData\\Local\\Temp\\ipykernel_10784\\3571236038.py:10: UserWarning: Converting to PeriodArray/Index representation will drop timezone information.\n",
      "  df_common['Year to Year'] = df_common.groupby(df_common['Date'].dt.to_period('Y'))['Day to Day'].transform('mean')\n"
     ]
    }
   ],
   "source": [
    "dict_postAnalysis = {}\n",
    "for key in df_dict:\n",
    "    df_common = df_dict[key]\n",
    "    df = analysis(df_common)\n",
    "    dict_postAnalysis[key] = df"
   ]
  },
  {
   "cell_type": "code",
   "execution_count": 5,
   "metadata": {},
   "outputs": [],
   "source": [
    "list_dfNames = [\"Stock- NVIDIA\", \"Stock- Amazon\", \"Stock- Apple\", \"Stock- Microsoft\", \"Stock- Tesla\", \"Mutual Fund- FNF\", \"Mutual Fund-FSTP\", \"Bond- 13 Week TBill\", \"Bond- 5YTBY\", \"Bond- 10 YTBill Yield\", \"Commodity- Copper\", \"Commodity- Oil\", \"Commodity- Gold\", \"Commodity- Steel\", \"Credit Data- SNP Futures\", \"FX Pair- USD EUR\", \"FX Pair- USD JPY\", \"Index Fund- S&P\"]\n",
    "df_Data_Concat = pd.concat(dict_postAnalysis.values(), axis = 1, keys=list_dfNames[:])"
   ]
  },
  {
   "cell_type": "code",
   "execution_count": 6,
   "metadata": {},
   "outputs": [],
   "source": [
    "writer = pd.ExcelWriter(r\"C:\\Users\\mattp\\Finance Project\\Concatenate and Excel\\All Assets Before Correlation.xlsx\")\n",
    "df_AllAssets.to_excel(writer, sheet_name=\"All Assets\")\n",
    "for key in dict_postAnalysis:\n",
    "    new_dataframe = df_Data_Concat[key]\n",
    "    new_dataframe.to_excel(writer, sheet_name=key)\n",
    "writer.close()"
   ]
  },
  {
   "cell_type": "code",
   "execution_count": null,
   "metadata": {},
   "outputs": [],
   "source": []
  }
 ],
 "metadata": {
  "kernelspec": {
   "display_name": "Python 3",
   "language": "python",
   "name": "python3"
  },
  "language_info": {
   "codemirror_mode": {
    "name": "ipython",
    "version": 3
   },
   "file_extension": ".py",
   "mimetype": "text/x-python",
   "name": "python",
   "nbconvert_exporter": "python",
   "pygments_lexer": "ipython3",
   "version": "3.11.4"
  },
  "orig_nbformat": 4
 },
 "nbformat": 4,
 "nbformat_minor": 2
}
