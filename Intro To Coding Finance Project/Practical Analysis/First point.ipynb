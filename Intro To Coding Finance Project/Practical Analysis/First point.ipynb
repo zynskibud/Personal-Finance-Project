{
 "cells": [
  {
   "cell_type": "code",
   "execution_count": 1,
   "metadata": {},
   "outputs": [],
   "source": [
    "import pandas as pd\n",
    "import numpy as np\n",
    "import yfinance as yf\n",
    "from IPython.display import display\n",
    "from pathlib import Path"
   ]
  },
  {
   "cell_type": "code",
   "execution_count": 2,
   "metadata": {},
   "outputs": [
    {
     "data": {
      "text/plain": [
       "dict_keys(['Stock- NVIDIA', 'Stock- Amazon', 'Stock- Apple', 'Stock- Microsoft', 'Stock- Tesla', 'Mutual Fund- FNF', 'Mutual Fund-FSTP', 'Bond- 13 Week TBill', 'Bond- 5YTBY', 'Bond- 10 YTBill Yield', 'Commodity- Copper', 'Commodity- Oil', 'Commodity- Gold', 'Commodity- Steel', 'Credit Data- SNP Futures', 'FX Pair- USD EUR', 'FX Pair- USD JPY', 'Index Fund- S&P'])"
      ]
     },
     "metadata": {},
     "output_type": "display_data"
    }
   ],
   "source": [
    "#Excel reading function\n",
    "df_dict = pd.read_excel(r\"C:\\Users\\mattp\\Finance Project\\Concatenate and Excel\\All Assets Final Before Analysis.xlsx\",  sheet_name = None)\n",
    "df_AllAssets = df_dict['All Assets']\n",
    "del df_dict['All Assets']\n",
    "display(df_dict.keys())\n",
    "df_AllAssets.columns = df_AllAssets.columns.to_series().replace('Unnamed:\\s\\d+',np.nan,regex=True).ffill().values"
   ]
  },
  {
   "cell_type": "code",
   "execution_count": 3,
   "metadata": {},
   "outputs": [],
   "source": [
    "#First data point function\n",
    "def firstpoint(df_common):\n",
    "    starting_point = df_common[df_common.Open>0].iloc[0]\n",
    "    date_starting_point = starting_point[0]\n",
    "    df_common[\"Starting Point\"] = date_starting_point\n",
    "    df_common = df_common.dropna()\n",
    "    return df_common"
   ]
  },
  {
   "cell_type": "code",
   "execution_count": 4,
   "metadata": {},
   "outputs": [],
   "source": [
    "#Writing in the column for the first data point\n",
    "dict_firstpoint = {}\n",
    "for key in df_dict:\n",
    "    df_common = df_dict[key]\n",
    "    df = firstpoint(df_common)\n",
    "    dict_firstpoint[key] = df"
   ]
  },
  {
   "cell_type": "code",
   "execution_count": 5,
   "metadata": {},
   "outputs": [],
   "source": [
    "list_dfNames = [\"Stock- NVIDIA\", \"Stock- Amazon\", \"Stock- Apple\", \"Stock- Microsoft\", \"Stock- Tesla\", \"Mutual Fund- FNF\", \"Mutual Fund-FSTP\", \"Bond- 13 Week TBill\", \"Bond- 5YTBY\", \"Bond- 10 YTBill Yield\", \"Commodity- Copper\", \"Commodity- Oil\", \"Commodity- Gold\", \"Commodity- Steel\", \"Credit Data- SNP Futures\", \"FX Pair- USD EUR\", \"FX Pair- USD JPY\", \"Index Fund- S&P\"]\n",
    "df_Data_Concat = pd.concat(dict_firstpoint.values(), axis = 1, keys=list_dfNames[:])"
   ]
  },
  {
   "cell_type": "code",
   "execution_count": 6,
   "metadata": {},
   "outputs": [],
   "source": [
    "writer = pd.ExcelWriter(r\"C:\\Users\\mattp\\Finance Project\\Practical Analysis\\All Assets First Point.xlsx\")\n",
    "df_AllAssets.to_excel(writer, sheet_name=\"All Assets\")\n",
    "for key in dict_firstpoint:\n",
    "    new_dataframe = df_Data_Concat[key]\n",
    "    new_dataframe.to_excel(writer, sheet_name=key)\n",
    "writer.close()"
   ]
  }
 ],
 "metadata": {
  "kernelspec": {
   "display_name": "Python 3",
   "language": "python",
   "name": "python3"
  },
  "language_info": {
   "codemirror_mode": {
    "name": "ipython",
    "version": 3
   },
   "file_extension": ".py",
   "mimetype": "text/x-python",
   "name": "python",
   "nbconvert_exporter": "python",
   "pygments_lexer": "ipython3",
   "version": "3.11.4"
  },
  "orig_nbformat": 4
 },
 "nbformat": 4,
 "nbformat_minor": 2
}
