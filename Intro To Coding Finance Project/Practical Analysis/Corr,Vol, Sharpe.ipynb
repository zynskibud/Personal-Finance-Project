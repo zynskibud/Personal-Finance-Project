{
 "cells": [
  {
   "cell_type": "code",
   "execution_count": 1,
   "metadata": {},
   "outputs": [],
   "source": [
    "import pandas as pd\n",
    "import numpy as np\n",
    "import yfinance as yf\n",
    "from IPython.display import display\n",
    "from pathlib import Path"
   ]
  },
  {
   "cell_type": "code",
   "execution_count": 2,
   "metadata": {},
   "outputs": [
    {
     "data": {
      "text/plain": [
       "dict_keys(['Stock- NVIDIA', 'Stock- Amazon', 'Stock- Apple', 'Stock- Microsoft', 'Stock- Tesla', 'Mutual Fund- FNF', 'Mutual Fund-FSTP', 'Bond- 13 Week TBill', 'Bond- 5YTBY', 'Bond- 10 YTBill Yield', 'Commodity- Copper', 'Commodity- Oil', 'Commodity- Gold', 'Commodity- Steel', 'Credit Data- SNP Futures', 'FX Pair- USD EUR', 'FX Pair- USD JPY', 'Index Fund- S&P'])"
      ]
     },
     "metadata": {},
     "output_type": "display_data"
    }
   ],
   "source": [
    "#Excel reading function\n",
    "df_dict = pd.read_excel(r\"C:\\Users\\mattp\\Finance Project\\Practical Analysis\\All Assets Price Change.xlsx\",  sheet_name = None)\n",
    "\n",
    "df_AllAssets = df_dict['All Assets']\n",
    "df_AllAssets = df_AllAssets.drop([\"Unnamed: 0\"], axis = 1)\n",
    "\n",
    "del df_dict['All Assets']\n",
    "\n",
    "display(df_dict.keys())\n",
    "\n",
    "df_AllAssets.columns = df_AllAssets.columns.to_series().replace('Unnamed:\\s\\d+',np.nan,regex=True).ffill().values"
   ]
  },
  {
   "cell_type": "code",
   "execution_count": 3,
   "metadata": {},
   "outputs": [],
   "source": [
    "dict_weights = {}\n",
    "\n",
    "for key in df_dict:\n",
    "    df_common = df_dict[key]\n",
    "    column_common = df_common[\"Weights\"]\n",
    "    column_common = column_common.dropna()\n",
    "    column_common = column_common.iloc[-1:]\n",
    "    column_common = column_common.reset_index(drop=True)\n",
    "    dict_weights[key] = column_common\n"
   ]
  },
  {
   "cell_type": "code",
   "execution_count": 4,
   "metadata": {},
   "outputs": [],
   "source": [
    "weights_list = [i for i in dict_weights.values()]\n",
    "weights_array = np.array(weights_list)"
   ]
  },
  {
   "cell_type": "code",
   "execution_count": 5,
   "metadata": {},
   "outputs": [],
   "source": [
    "dict_corrDfs = {}\n",
    "\n",
    "for key in df_dict:\n",
    "    df_common = df_dict[key]\n",
    "    column_common = df_common[\"Log Returns\"]\n",
    "    column_common = column_common.dropna()\n",
    "    column_common = column_common.iloc[-90:]\n",
    "    column_common = column_common.reset_index()\n",
    "    column_common = column_common.drop([\"index\"], axis = 1)\n",
    "    dict_corrDfs[key] = column_common"
   ]
  },
  {
   "cell_type": "code",
   "execution_count": 6,
   "metadata": {},
   "outputs": [],
   "source": [
    "df_log_returns = pd.concat(dict_corrDfs.values(), axis = 1, keys=dict_corrDfs)\n",
    "df_log_returns.to_csv(\"Log returns.csv\")"
   ]
  },
  {
   "cell_type": "code",
   "execution_count": 7,
   "metadata": {},
   "outputs": [],
   "source": [
    "df_corr = df_log_returns.corr()\n",
    "df_corr.to_excel(\"Correlation Matrix.xlsx\")"
   ]
  },
  {
   "cell_type": "code",
   "execution_count": 8,
   "metadata": {},
   "outputs": [
    {
     "data": {
      "text/plain": [
       "0.03545236724660104"
      ]
     },
     "metadata": {},
     "output_type": "display_data"
    }
   ],
   "source": [
    "portfolio_volatility = (np.sqrt(np.dot(weights_array.T, np.dot(df_log_returns.cov() * np.sqrt(365), weights_array))))[0,0]\n",
    "display(portfolio_volatility)\n",
    "portfolio_variance = np.dot(weights_array.T,np.dot(df_corr, weights_array))"
   ]
  },
  {
   "cell_type": "code",
   "execution_count": 9,
   "metadata": {},
   "outputs": [
    {
     "name": "stdout",
     "output_type": "stream",
     "text": [
      "0.017337143477315017\n"
     ]
    }
   ],
   "source": [
    "#Expected return of portfolio\n",
    "exp_ret = np.sum((df_log_returns.mean() * weights_array.T[0])*np.sqrt(365))\n",
    "print(exp_ret)\n"
   ]
  },
  {
   "cell_type": "code",
   "execution_count": 10,
   "metadata": {},
   "outputs": [
    {
     "name": "stdout",
     "output_type": "stream",
     "text": [
      "-1.0172199862378013\n"
     ]
    }
   ],
   "source": [
    "#Sharpe ratio of portfolio\n",
    "#used the 10 year treasury rate\n",
    "risk_free_rate = 0.0534\n",
    "\n",
    "sharpe_ratio = (exp_ret - risk_free_rate)/portfolio_volatility\n",
    "print(sharpe_ratio)\n",
    "\n"
   ]
  },
  {
   "cell_type": "code",
   "execution_count": 11,
   "metadata": {},
   "outputs": [],
   "source": [
    "list_dfNames = [\"Stock- NVIDIA\", \"Stock- Amazon\", \"Stock- Apple\", \"Stock- Microsoft\", \"Stock- Tesla\", \"Mutual Fund- FNF\", \"Mutual Fund-FSTP\", \"Bond- 13 Week TBill\", \"Bond- 5YTBY\", \"Bond- 10 YTBill Yield\", \"Commodity- Copper\", \"Commodity- Oil\", \"Commodity- Gold\", \"Commodity- Steel\", \"Credit Data- SNP Futures\", \"FX Pair- USD EUR\", \"FX Pair- USD JPY\", \"Index Fund- S&P\"]\n",
    "df_Data_Concat = pd.concat(df_dict.values(), axis = 1, keys=list_dfNames[:])"
   ]
  },
  {
   "cell_type": "code",
   "execution_count": 12,
   "metadata": {},
   "outputs": [],
   "source": [
    "writer = pd.ExcelWriter(r\"C:\\Users\\mattp\\Finance Project\\Practical Analysis\\Portfolio.xlsx\")\n",
    "\n",
    "df_AllAssets[\"Volatility of Portfolio\"] = portfolio_volatility/100\n",
    "df_AllAssets[\"Sharpe Ratio of Portfolio\"] = sharpe_ratio\n",
    "df_AllAssets.to_excel(writer, sheet_name=\"All Assets\")\n",
    "\n",
    "for key in df_dict:\n",
    "    new_dataframe = df_Data_Concat[key]\n",
    "    new_dataframe.to_excel(writer, sheet_name=key)\n",
    "\n",
    "writer.close()"
   ]
  },
  {
   "cell_type": "code",
   "execution_count": null,
   "metadata": {},
   "outputs": [],
   "source": []
  }
 ],
 "metadata": {
  "kernelspec": {
   "display_name": "Python 3",
   "language": "python",
   "name": "python3"
  },
  "language_info": {
   "codemirror_mode": {
    "name": "ipython",
    "version": 3
   },
   "file_extension": ".py",
   "mimetype": "text/x-python",
   "name": "python",
   "nbconvert_exporter": "python",
   "pygments_lexer": "ipython3",
   "version": "3.11.4"
  },
  "orig_nbformat": 4
 },
 "nbformat": 4,
 "nbformat_minor": 2
}
